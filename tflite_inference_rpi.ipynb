{
 "cells": [
  {
   "cell_type": "markdown",
   "metadata": {},
   "source": [
    "# Setup your environnement\n",
    "\n",
    "## Requirements\n",
    "\n",
    "```sh\n",
    "python3 --version\n",
    "pip3 --version\n",
    "virtualenv --version\n",
    "````\n",
    "\n",
    "## Create a virtualenv and install Tensorflow\n",
    "```sh \n",
    "virtualenv --system-site-packages -p python3 ./venv\n",
    "source ./venv/bin/activate\n",
    "pip install --upgrade pip\n",
    "pip3 install --upgrade tflite_runtime-1.14.0-cp37-cp37m-linux_armv7l.whl\n",
    "```\n",
    "\n",
    "## Check you setup is correct\n",
    "```sh\n",
    "python -c \"import tensorflow as tf;print(tf.reduce_sum(tf.random.normal([1000, 1000])))\"\n",
    "\n",
    "## Only Tensorflow Lite interpreter\n",
    "\n",
    "python -c \"import tflite_runtime.interpreter as tflite\"\n",
    "```"
   ]
  },
  {
   "cell_type": "code",
   "execution_count": null,
   "metadata": {},
   "outputs": [],
   "source": [
    "# import tensorflow as tf\n",
    "# from tensorflow import lite as tflite\n",
    "\n",
    "import tflite_runtime.interpreter as tflite\n",
    "import numpy as np\n",
    "import pandas as pd\n",
    "import distro\n",
    "import matplotlib.pyplot as plt\n",
    "\n",
    "print('Running Tensorflow on {} {}'.format(distro.name(), distro.version()), distro.codename())"
   ]
  },
  {
   "cell_type": "markdown",
   "metadata": {},
   "source": [
    "# Load your data\n",
    "\n",
    "Note: In practice, this should be pre-processed sensors data"
   ]
  },
  {
   "cell_type": "code",
   "execution_count": null,
   "metadata": {
    "jupyter": {
     "source_hidden": true
    }
   },
   "outputs": [],
   "source": [
    "test_dataset = pd.read_pickle('./datasets/test_lg_dataset.pickle')\n",
    "test_weights = pd.read_pickle('./datasets/test_lg_weights.pickle')"
   ]
  },
  {
   "cell_type": "markdown",
   "metadata": {},
   "source": [
    "# Load your tflite model"
   ]
  },
  {
   "cell_type": "markdown",
   "metadata": {},
   "source": [
    "## Feed TFLite Interpreter with your model"
   ]
  },
  {
   "cell_type": "code",
   "execution_count": null,
   "metadata": {
    "jupyter": {
     "source_hidden": true
    }
   },
   "outputs": [],
   "source": [
    "tflite_model = './models/lg_weight.tflite'\n",
    "interpreter = tflite.Interpreter(model_path=tflite_model)\n",
    "\n",
    "## or aternatively if you convert the model in this notebook\n",
    "#interpreter = tf.lite.Interpreter(model_content=tflite_model)"
   ]
  },
  {
   "cell_type": "markdown",
   "metadata": {},
   "source": [
    "## Allocate Memory"
   ]
  },
  {
   "cell_type": "code",
   "execution_count": null,
   "metadata": {
    "jupyter": {
     "source_hidden": true
    }
   },
   "outputs": [],
   "source": [
    "# you must allocate tensors first\n",
    "interpreter.allocate_tensors()\n",
    "# obtaining the input-output shapes and types\n",
    "input_details = interpreter.get_input_details()\n",
    "output_details = interpreter.get_output_details()\n",
    "print(input_details)"
   ]
  },
  {
   "cell_type": "markdown",
   "metadata": {},
   "source": [
    "## Iterate through the test data and run Tensorflow Lite inference"
   ]
  },
  {
   "cell_type": "code",
   "execution_count": null,
   "metadata": {
    "jupyter": {
     "source_hidden": true
    }
   },
   "outputs": [],
   "source": [
    "%%time\n",
    "test_tflite_prediction = []\n",
    "for index,row in test_dataset.iterrows():\n",
    "    # reshape according to the model input shape\n",
    "    input_tensor = np.array(row.values, 'f').reshape(input_details[0]['shape'])\n",
    "    # tensor index can be gotten from the 'index' field in get_input_details\n",
    "    interpreter.set_tensor(tensor_index=input_details[0]['index'], value=input_tensor)\n",
    "    # run inference\n",
    "    interpreter.invoke()\n",
    "    # get the results\n",
    "    inference = interpreter.get_tensor(output_details[0]['index'])\n",
    "    test_tflite_prediction.append(inference.flatten())"
   ]
  },
  {
   "cell_type": "markdown",
   "metadata": {},
   "source": [
    "## Plot results and compare with True values"
   ]
  },
  {
   "cell_type": "code",
   "execution_count": null,
   "metadata": {
    "jupyter": {
     "source_hidden": true
    }
   },
   "outputs": [],
   "source": [
    "test_tflite_prediction = np.array(test_tflite_prediction).flatten()\n",
    "plt.rcParams['figure.figsize'] = (8, 8)\n",
    "\n",
    "def plot_predictions(true, inferences):\n",
    "    plt.scatter(true, inferences, marker='x')\n",
    "    plt.xlabel('True Values [Weight]')\n",
    "    plt.ylabel('Inferences [Weight]')\n",
    "    plt.axis('equal')\n",
    "    plt.axis('square')\n",
    "    plt.xlim([0,plt.xlim()[1]])\n",
    "    plt.ylim([0,plt.ylim()[1]])\n",
    "    plt.plot([-0, 250], [-0, 250], color='orange')\n",
    "\n",
    "    plt.show()\n",
    "\n",
    "plot_predictions(test_weights, test_tflite_prediction)"
   ]
  }
 ],
 "metadata": {
  "kernelspec": {
   "display_name": "Python 3",
   "language": "python",
   "name": "python3"
  },
  "language_info": {
   "codemirror_mode": {
    "name": "ipython",
    "version": 3
   },
   "file_extension": ".py",
   "mimetype": "text/x-python",
   "name": "python",
   "nbconvert_exporter": "python",
   "pygments_lexer": "ipython3",
   "version": "3.7.3"
  }
 },
 "nbformat": 4,
 "nbformat_minor": 4
}
